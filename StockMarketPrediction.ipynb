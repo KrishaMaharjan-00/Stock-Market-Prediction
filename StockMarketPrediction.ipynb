{
 "cells": [
  {
   "cell_type": "code",
   "execution_count": 1,
   "id": "485e3d37",
   "metadata": {},
   "outputs": [],
   "source": [
    "import pandas_datareader as pdr"
   ]
  },
  {
   "cell_type": "code",
   "execution_count": 2,
   "id": "1685318e",
   "metadata": {},
   "outputs": [
    {
     "name": "stderr",
     "output_type": "stream",
     "text": [
      "C:\\Users\\dell\\anaconda3\\lib\\site-packages\\pandas_datareader\\tiingo.py:234: FutureWarning: In a future version of pandas all arguments of concat except for the argument 'objs' will be keyword-only\n",
      "  return pd.concat(dfs, self._concat_axis)\n"
     ]
    }
   ],
   "source": [
    "df = pdr.get_data_tiingo('AAPL', api_key = '904a4bd144508c0f00ce519a47aee42282f96724')\n"
   ]
  },
  {
   "cell_type": "code",
   "execution_count": 3,
   "id": "cebdcdda",
   "metadata": {},
   "outputs": [],
   "source": [
    "#df.to_csv('market.csv')"
   ]
  },
  {
   "cell_type": "code",
   "execution_count": 4,
   "id": "a96ab35f",
   "metadata": {},
   "outputs": [],
   "source": [
    "import pandas as pd"
   ]
  },
  {
   "cell_type": "code",
   "execution_count": 5,
   "id": "527e01f7",
   "metadata": {},
   "outputs": [
    {
     "data": {
      "text/html": [
       "<div>\n",
       "<style scoped>\n",
       "    .dataframe tbody tr th:only-of-type {\n",
       "        vertical-align: middle;\n",
       "    }\n",
       "\n",
       "    .dataframe tbody tr th {\n",
       "        vertical-align: top;\n",
       "    }\n",
       "\n",
       "    .dataframe thead th {\n",
       "        text-align: right;\n",
       "    }\n",
       "</style>\n",
       "<table border=\"1\" class=\"dataframe\">\n",
       "  <thead>\n",
       "    <tr style=\"text-align: right;\">\n",
       "      <th></th>\n",
       "      <th>symbol</th>\n",
       "      <th>date</th>\n",
       "      <th>close</th>\n",
       "      <th>high</th>\n",
       "      <th>low</th>\n",
       "      <th>open</th>\n",
       "      <th>volume</th>\n",
       "      <th>adjClose</th>\n",
       "      <th>adjHigh</th>\n",
       "      <th>adjLow</th>\n",
       "      <th>adjOpen</th>\n",
       "      <th>adjVolume</th>\n",
       "      <th>divCash</th>\n",
       "      <th>splitFactor</th>\n",
       "    </tr>\n",
       "  </thead>\n",
       "  <tbody>\n",
       "    <tr>\n",
       "      <th>0</th>\n",
       "      <td>AAPL</td>\n",
       "      <td>2017-03-13 00:00:00+00:00</td>\n",
       "      <td>139.20</td>\n",
       "      <td>139.4300</td>\n",
       "      <td>138.820</td>\n",
       "      <td>138.85</td>\n",
       "      <td>17421717</td>\n",
       "      <td>32.851733</td>\n",
       "      <td>32.906013</td>\n",
       "      <td>32.762051</td>\n",
       "      <td>32.769131</td>\n",
       "      <td>69686868</td>\n",
       "      <td>0.0</td>\n",
       "      <td>1.0</td>\n",
       "    </tr>\n",
       "    <tr>\n",
       "      <th>1</th>\n",
       "      <td>AAPL</td>\n",
       "      <td>2017-03-14 00:00:00+00:00</td>\n",
       "      <td>138.99</td>\n",
       "      <td>139.6500</td>\n",
       "      <td>138.840</td>\n",
       "      <td>139.30</td>\n",
       "      <td>15309065</td>\n",
       "      <td>32.802172</td>\n",
       "      <td>32.957934</td>\n",
       "      <td>32.766771</td>\n",
       "      <td>32.875333</td>\n",
       "      <td>61236260</td>\n",
       "      <td>0.0</td>\n",
       "      <td>1.0</td>\n",
       "    </tr>\n",
       "    <tr>\n",
       "      <th>2</th>\n",
       "      <td>AAPL</td>\n",
       "      <td>2017-03-15 00:00:00+00:00</td>\n",
       "      <td>140.46</td>\n",
       "      <td>140.7501</td>\n",
       "      <td>139.025</td>\n",
       "      <td>139.41</td>\n",
       "      <td>25691774</td>\n",
       "      <td>33.149097</td>\n",
       "      <td>33.217562</td>\n",
       "      <td>32.810432</td>\n",
       "      <td>32.901293</td>\n",
       "      <td>102767096</td>\n",
       "      <td>0.0</td>\n",
       "      <td>1.0</td>\n",
       "    </tr>\n",
       "    <tr>\n",
       "      <th>3</th>\n",
       "      <td>AAPL</td>\n",
       "      <td>2017-03-16 00:00:00+00:00</td>\n",
       "      <td>140.69</td>\n",
       "      <td>141.0200</td>\n",
       "      <td>140.260</td>\n",
       "      <td>140.72</td>\n",
       "      <td>19231998</td>\n",
       "      <td>33.203378</td>\n",
       "      <td>33.281260</td>\n",
       "      <td>33.101897</td>\n",
       "      <td>33.210458</td>\n",
       "      <td>76927992</td>\n",
       "      <td>0.0</td>\n",
       "      <td>1.0</td>\n",
       "    </tr>\n",
       "    <tr>\n",
       "      <th>4</th>\n",
       "      <td>AAPL</td>\n",
       "      <td>2017-03-17 00:00:00+00:00</td>\n",
       "      <td>139.99</td>\n",
       "      <td>141.0000</td>\n",
       "      <td>139.890</td>\n",
       "      <td>141.00</td>\n",
       "      <td>43884952</td>\n",
       "      <td>33.038176</td>\n",
       "      <td>33.276539</td>\n",
       "      <td>33.014575</td>\n",
       "      <td>33.276539</td>\n",
       "      <td>175539808</td>\n",
       "      <td>0.0</td>\n",
       "      <td>1.0</td>\n",
       "    </tr>\n",
       "  </tbody>\n",
       "</table>\n",
       "</div>"
      ],
      "text/plain": [
       "  symbol                       date   close      high      low    open  \\\n",
       "0   AAPL  2017-03-13 00:00:00+00:00  139.20  139.4300  138.820  138.85   \n",
       "1   AAPL  2017-03-14 00:00:00+00:00  138.99  139.6500  138.840  139.30   \n",
       "2   AAPL  2017-03-15 00:00:00+00:00  140.46  140.7501  139.025  139.41   \n",
       "3   AAPL  2017-03-16 00:00:00+00:00  140.69  141.0200  140.260  140.72   \n",
       "4   AAPL  2017-03-17 00:00:00+00:00  139.99  141.0000  139.890  141.00   \n",
       "\n",
       "     volume   adjClose    adjHigh     adjLow    adjOpen  adjVolume  divCash  \\\n",
       "0  17421717  32.851733  32.906013  32.762051  32.769131   69686868      0.0   \n",
       "1  15309065  32.802172  32.957934  32.766771  32.875333   61236260      0.0   \n",
       "2  25691774  33.149097  33.217562  32.810432  32.901293  102767096      0.0   \n",
       "3  19231998  33.203378  33.281260  33.101897  33.210458   76927992      0.0   \n",
       "4  43884952  33.038176  33.276539  33.014575  33.276539  175539808      0.0   \n",
       "\n",
       "   splitFactor  \n",
       "0          1.0  \n",
       "1          1.0  \n",
       "2          1.0  \n",
       "3          1.0  \n",
       "4          1.0  "
      ]
     },
     "execution_count": 5,
     "metadata": {},
     "output_type": "execute_result"
    }
   ],
   "source": [
    "df = pd.read_csv('market.csv')\n",
    "df.head()"
   ]
  },
  {
   "cell_type": "code",
   "execution_count": 6,
   "id": "0efafdca",
   "metadata": {},
   "outputs": [
    {
     "data": {
      "text/plain": [
       "0       139.20\n",
       "1       138.99\n",
       "2       140.46\n",
       "3       140.69\n",
       "4       139.99\n",
       "         ...  \n",
       "1254    163.17\n",
       "1255    159.30\n",
       "1256    157.44\n",
       "1257    162.95\n",
       "1258    158.52\n",
       "Name: close, Length: 1259, dtype: float64"
      ]
     },
     "execution_count": 6,
     "metadata": {},
     "output_type": "execute_result"
    }
   ],
   "source": [
    "df1 = df.reset_index()['close']\n",
    "df1"
   ]
  },
  {
   "cell_type": "code",
   "execution_count": 7,
   "id": "03cece34",
   "metadata": {},
   "outputs": [
    {
     "data": {
      "text/plain": [
       "(1259,)"
      ]
     },
     "execution_count": 7,
     "metadata": {},
     "output_type": "execute_result"
    }
   ],
   "source": [
    "df1.shape"
   ]
  },
  {
   "cell_type": "code",
   "execution_count": 8,
   "id": "96b45316",
   "metadata": {},
   "outputs": [
    {
     "data": {
      "text/plain": [
       "[<matplotlib.lines.Line2D at 0x238f4b27610>]"
      ]
     },
     "execution_count": 8,
     "metadata": {},
     "output_type": "execute_result"
    },
    {
     "data": {
      "image/png": "[encoded data removed]",
      "text/plain": [
       "<Figure size 432x288 with 1 Axes>"
      ]
     },
     "metadata": {
      "needs_background": "light"
     },
     "output_type": "display_data"
    }
   ],
   "source": [
    "import matplotlib.pyplot as plt\n",
    "plt.plot(df1)"
   ]
  },
  {
   "cell_type": "code",
   "execution_count": 9,
   "id": "072bc6a1",
   "metadata": {},
   "outputs": [],
   "source": [
    "import numpy as np"
   ]
  },
  {
   "cell_type": "code",
   "execution_count": 10,
   "id": "7a3aad52",
   "metadata": {},
   "outputs": [],
   "source": [
    "from sklearn.preprocessing import MinMaxScaler\n",
    "scaler = MinMaxScaler(feature_range=(0,1))\n",
    "df1=scaler.fit_transform(np.array(df1).reshape(-1,1))"
   ]
  },
  {
   "cell_type": "code",
   "execution_count": 11,
   "id": "9f36c64f",
   "metadata": {},
   "outputs": [
    {
     "data": {
      "text/plain": [
       "array([[0.08105197],\n",
       "       [0.08052599],\n",
       "       [0.08420789],\n",
       "       ...,\n",
       "       [0.12673763],\n",
       "       [0.14053851],\n",
       "       [0.12944271]])"
      ]
     },
     "execution_count": 11,
     "metadata": {},
     "output_type": "execute_result"
    }
   ],
   "source": [
    "df1"
   ]
  },
  {
   "cell_type": "code",
   "execution_count": 12,
   "id": "07f68e6d",
   "metadata": {},
   "outputs": [],
   "source": [
    "training_size = int(len(df1)*0.65)\n",
    "test_size = len(df1) - training_size\n",
    "train_data, test_data = df1[0:training_size,:],df1[training_size:len(df1),:1]"
   ]
  },
  {
   "cell_type": "code",
   "execution_count": 13,
   "id": "d23231f2",
   "metadata": {},
   "outputs": [],
   "source": [
    "import numpy\n",
    "\n",
    "def create_dataset(dataset, time_step=1):\n",
    "    dataX, dataY = [], [] \n",
    "    for i in range(len(dataset)-time_step-1):\n",
    "        a = dataset[i:(i+time_step), 0]\n",
    "        dataX.append(a)\n",
    "        dataY.append(dataset[i + time_step, 0])\n",
    "    return numpy.array(dataX), numpy.array(dataY)"
   ]
  },
  {
   "cell_type": "code",
   "execution_count": 14,
   "id": "5428bd71",
   "metadata": {},
   "outputs": [],
   "source": [
    "time_step = 100\n",
    "X_train, y_train = create_dataset(train_data, time_step)\n",
    "X_test, y_test = create_dataset(test_data, time_step) "
   ]
  },
  {
   "cell_type": "code",
   "execution_count": 15,
   "id": "137e532b",
   "metadata": {},
   "outputs": [
    {
     "data": {
      "text/plain": [
       "(717, 100)"
      ]
     },
     "execution_count": 15,
     "metadata": {},
     "output_type": "execute_result"
    }
   ],
   "source": [
    "X_train.shape"
   ]
  },
  {
   "cell_type": "code",
   "execution_count": 16,
   "id": "1f6f9119",
   "metadata": {},
   "outputs": [
    {
     "data": {
      "text/plain": [
       "(717,)"
      ]
     },
     "execution_count": 16,
     "metadata": {},
     "output_type": "execute_result"
    }
   ],
   "source": [
    "y_train.shape"
   ]
  },
  {
   "cell_type": "code",
   "execution_count": 17,
   "id": "2d935541",
   "metadata": {},
   "outputs": [],
   "source": [
    "X_train = X_train.reshape(X_train.shape[0], X_train.shape[1], 1)\n",
    "X_test = X_test.reshape(X_test.shape[0], X_test.shape[1], 1)"
   ]
  },
  {
   "cell_type": "code",
   "execution_count": 18,
   "id": "29aa8972",
   "metadata": {},
   "outputs": [],
   "source": [
    "from tensorflow.keras.models import Sequential\n",
    "from tensorflow.keras.layers import Dense\n",
    "from tensorflow.keras.layers import LSTM"
   ]
  },
  {
   "cell_type": "code",
   "execution_count": 19,
   "id": "4e318cef",
   "metadata": {},
   "outputs": [],
   "source": [
    "model = Sequential()\n",
    "model.add(LSTM(50,return_sequences=True,input_shape=(100,1)))\n",
    "model.add(LSTM(50,return_sequences=True))\n",
    "model.add(LSTM(50))\n",
    "model.add(Dense(1))\n",
    "model.compile(loss='mean_squared_error', optimizer='adam')"
   ]
  },
  {
   "cell_type": "code",
   "execution_count": 20,
   "id": "f34cb3e1",
   "metadata": {},
   "outputs": [
    {
     "name": "stdout",
     "output_type": "stream",
     "text": [
      "Model: \"sequential\"\n",
      "_________________________________________________________________\n",
      " Layer (type)                Output Shape              Param #   \n",
      "=================================================================\n",
      " lstm (LSTM)                 (None, 100, 50)           10400     \n",
      "                                                                 \n",
      " lstm_1 (LSTM)               (None, 100, 50)           20200     \n",
      "                                                                 \n",
      " lstm_2 (LSTM)               (None, 50)                20200     \n",
      "                                                                 \n",
      " dense (Dense)               (None, 1)                 51        \n",
      "                                                                 \n",
      "=================================================================\n",
      "Total params: 50,851\n",
      "Trainable params: 50,851\n",
      "Non-trainable params: 0\n",
      "_________________________________________________________________\n"
     ]
    }
   ],
   "source": [
    "model.summary()"
   ]
  },
  {
   "cell_type": "code",
   "execution_count": 21,
   "id": "440a7721",
   "metadata": {},
   "outputs": [
    {
     "name": "stdout",
     "output_type": "stream",
     "text": [
      "Epoch 1/10\n",
      "12/12 [==============================] - 12s 359ms/step - loss: 0.0271 - val_loss: 0.0044\n",
      "Epoch 2/10\n",
      "12/12 [==============================] - 3s 213ms/step - loss: 0.0062 - val_loss: 0.0104\n",
      "Epoch 3/10\n",
      "12/12 [==============================] - 3s 213ms/step - loss: 0.0033 - val_loss: 0.0015\n",
      "Epoch 4/10\n",
      "12/12 [==============================] - 3s 224ms/step - loss: 0.0014 - val_loss: 2.5829e-04\n",
      "Epoch 5/10\n",
      "12/12 [==============================] - 3s 230ms/step - loss: 0.0011 - val_loss: 2.2892e-04\n",
      "Epoch 6/10\n",
      "12/12 [==============================] - 2s 200ms/step - loss: 9.4976e-04 - val_loss: 2.4276e-04\n",
      "Epoch 7/10\n",
      "12/12 [==============================] - 2s 199ms/step - loss: 8.8809e-04 - val_loss: 2.8820e-04\n",
      "Epoch 8/10\n",
      "12/12 [==============================] - 2s 199ms/step - loss: 8.5348e-04 - val_loss: 2.8968e-04\n",
      "Epoch 9/10\n",
      "12/12 [==============================] - 2s 199ms/step - loss: 8.1856e-04 - val_loss: 2.2129e-04\n",
      "Epoch 10/10\n",
      "12/12 [==============================] - 2s 200ms/step - loss: 7.9354e-04 - val_loss: 2.5963e-04\n"
     ]
    },
    {
     "data": {
      "text/plain": [
       "<keras.callbacks.History at 0x238ff2c9070>"
      ]
     },
     "execution_count": 21,
     "metadata": {},
     "output_type": "execute_result"
    }
   ],
   "source": [
    "model.fit(X_train, y_train, validation_data=(X_test,y_test), epochs=10, batch_size=64, verbose=1)"
   ]
  },
  {
   "cell_type": "code",
   "execution_count": 22,
   "id": "e21977df",
   "metadata": {},
   "outputs": [],
   "source": [
    "import tensorflow as tf"
   ]
  },
  {
   "cell_type": "code",
   "execution_count": 23,
   "id": "9c1a8067",
   "metadata": {},
   "outputs": [
    {
     "data": {
      "text/plain": [
       "'2.8.0'"
      ]
     },
     "execution_count": 23,
     "metadata": {},
     "output_type": "execute_result"
    }
   ],
   "source": [
    "tf.__version__"
   ]
  },
  {
   "cell_type": "code",
   "execution_count": 24,
   "id": "001c38ae",
   "metadata": {},
   "outputs": [],
   "source": [
    "train_predict = model.predict(X_train)\n",
    "test_predict = model.predict(X_test)"
   ]
  },
  {
   "cell_type": "code",
   "execution_count": 25,
   "id": "5c87cd41",
   "metadata": {},
   "outputs": [],
   "source": [
    "train_predict = scaler.inverse_transform(train_predict)\n",
    "test_predict = scaler.inverse_transform(test_predict)"
   ]
  },
  {
   "cell_type": "code",
   "execution_count": 26,
   "id": "0eaee3ea",
   "metadata": {},
   "outputs": [
    {
     "data": {
      "text/plain": [
       "214.2078548166404"
      ]
     },
     "execution_count": 26,
     "metadata": {},
     "output_type": "execute_result"
    }
   ],
   "source": [
    "import math\n",
    "from sklearn.metrics import mean_squared_error\n",
    "math.sqrt(mean_squared_error(y_train, train_predict))"
   ]
  },
  {
   "cell_type": "code",
   "execution_count": 27,
   "id": "cb430bf4",
   "metadata": {},
   "outputs": [
    {
     "data": {
      "text/plain": [
       "146.37014050038303"
      ]
     },
     "execution_count": 27,
     "metadata": {},
     "output_type": "execute_result"
    }
   ],
   "source": [
    "math.sqrt(mean_squared_error(y_test, test_predict))"
   ]
  },
  {
   "cell_type": "code",
   "execution_count": null,
   "id": "fe142781",
   "metadata": {},
   "outputs": [],
   "source": [
    "look_back = 100\n",
    "trainPredictPlot = numpy.empty_like(df1)\n",
    "trainPredictPlot[:, :] = np.nan\n"
   ]
  }
 ],
 "metadata": {
  "kernelspec": {
   "display_name": "Python 3 (ipykernel)",
   "language": "python",
   "name": "python3"
  },
  "language_info": {
   "codemirror_mode": {
    "name": "ipython",
    "version": 3
   },
   "file_extension": ".py",
   "mimetype": "text/x-python",
   "name": "python",
   "nbconvert_exporter": "python",
   "pygments_lexer": "ipython3",
   "version": "3.9.7"
  }
 },
 "nbformat": 4,
 "nbformat_minor": 5
}
